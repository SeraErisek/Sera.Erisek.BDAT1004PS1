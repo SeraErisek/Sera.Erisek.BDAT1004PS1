{
 "cells": [
  {
   "cell_type": "markdown",
   "id": "699bc6f6",
   "metadata": {},
   "source": [
    "1. What data type is each of the following?\n",
    "5 => integer\n",
    "5.0 => float / double\n",
    "5 > 1 => boolean\n",
    "'5' => string\n",
    "5 * 2 => integer\n",
    "'5' * 2 => string\n",
    "'5' + '2' => string\n",
    "5 / 2 => integer\n",
    "5 % 2 => integer\n",
    "{5, 2, 1} => list\n",
    "5 == 3 => boolean\n",
    "Pi (the number) => double"
   ]
  },
  {
   "cell_type": "markdown",
   "id": "52de3095",
   "metadata": {},
   "source": [
    "2. Write (and evaluate) C# expressions that answer these questions:\n",
    "\n",
    "a. How many letters are there in 'Supercalifragilisticexpialidocious'?\n",
    "b. Does 'Supercalifragilisticexpialidocious' contain 'ice' as a substring?\n",
    "c. Which of the following words is the longest:\n",
    "Supercalifragilisticexpialidocious, Honorificabilitudinitatibus, or\n",
    "Bababadalgharaghtakamminarronnkonn?\n",
    "d. Which composer comes first in the dictionary: 'Berlioz', 'Borodin', 'Brian',\n",
    "'Bartok', 'Bellini', 'Buxtehude', 'Bernstein'. Which one comes last?"
   ]
  },
  {
   "cell_type": "markdown",
   "id": "3bfbedde",
   "metadata": {},
   "source": [
    "2. Answer Input (Visual Studio)\n",
    "2. a.  \n",
    "string weirdWord = \"Supercalifragilisticexpialidocious\";\n",
    "int length = weirdWord.Length;\n",
    "Console.WriteLine(length);\n",
    "\n",
    "2. b.\n",
    "string weirdWord = \"Supercalifragilisticexpialidocious\";\n",
    "string subStr = \"ice\";\n",
    "Console.WriteLine(weirdWord.Contains(subStr));\n",
    "\n",
    "2. c.\n",
    "string moreWeirdWords = \"Supercalifragilisticexpialidocious,Honorificabilitudinitatibus,Bababadalgharaghtakamminarronnkonn\";\n",
    "string[] eachWord = moreWeirdWords.Split(',');\n",
    "string word = \"\";\n",
    "int ctr = 0;\n",
    "foreach (string s in eachWord)\n",
    "{\n",
    "    if (s.Length >= ctr)\n",
    "    {\n",
    "        word = word + \"\\n \" + s;\n",
    "        ctr = s.Length;\n",
    "    }\n",
    "}\n",
    "Console.WriteLine(word);\n",
    "\n",
    "2. d.\n"
   ]
  },
  {
   "cell_type": "markdown",
   "id": "ea320bbd",
   "metadata": {},
   "source": [
    "2. Answer Output (Visual Studio)\n",
    "\n",
    "2. a. \n",
    "34\n",
    "\n",
    "\n",
    "2. b.\n",
    "True\n",
    "\n",
    "\n",
    "2. c.\n",
    "\n",
    " Supercalifragilisticexpialidocious\n",
    " Bababadalgharaghtakamminarronnkonn\n",
    "\n",
    "\n",
    "2. d.\n"
   ]
  },
  {
   "cell_type": "markdown",
   "id": "8f32f93e",
   "metadata": {},
   "source": [
    "3. Implement function triangleArea(a,b,c) that takes as input the lengths of the 3 sides of a triangle and returns the area of the triangle. By Heron's formula, the area of a triangle with side lengths a, b, and c is (s(s - a)(s -b)(s -c))^(0.5), where s = (a +b + c) /2.\n",
    "\n",
    ">>> triangleArea(2,2,2)\n",
    "1.7320508075688772"
   ]
  },
  {
   "cell_type": "markdown",
   "id": "422b47fe",
   "metadata": {},
   "source": [
    "3. Answer Input\n",
    "\n",
    "using System; \n",
    "namespace triAreaCalc\n",
    "{\n",
    "    public class triangleArea\n",
    "    {\n",
    "        public static void Main()\n",
    "        {\n",
    "            Console.Write(\"Enter first length:\");\n",
    "            double a = Convert.ToDouble(Console.ReadLine());\n",
    "            Console.Write(\"Enter second length:\");\n",
    "            double b = Convert.ToDouble(Console.ReadLine());\n",
    "            Console.Write(\"Enter third length:\");\n",
    "            double c = Convert.ToDouble(Console.ReadLine());\n",
    "\n",
    "            double s = (a + b + c) / 2;\n",
    "            double A = Math.Sqrt(s * (s - a) * (s - b) * (s - c));\n",
    "            Console.Write(\"Area = \" + A);\n",
    "            Console.ReadKey();\n",
    "        }\n",
    "    }\n",
    "}"
   ]
  },
  {
   "cell_type": "markdown",
   "id": "083402a7",
   "metadata": {},
   "source": [
    "3. Answer Output\n",
    "\n",
    "Enter first length:2\n",
    "Enter second length:2\n",
    "Enter third length:2\n",
    "Area = 1.7320508075688772\n",
    "\n"
   ]
  },
  {
   "cell_type": "markdown",
   "id": "089e7e34",
   "metadata": {},
   "source": [
    "4. Write a program in C# Sharp to separate odd and even integers in separate arrays.\n",
    "Go to the editor\n",
    "Test Data :\n",
    "Input the number of elements to be stored in the array :5\n",
    "Input 5 elements in the array :\n",
    "element - 0 : 25\n",
    "element - 1 : 47\n",
    "element - 2 : 42\n",
    "element - 3 : 56\n",
    "element - 4 : 32\n",
    "\n",
    ">>>Expected Output:\n",
    "The Even elements are:\n",
    "42 56 32\n",
    "The Odd elements are :\n",
    "25 47"
   ]
  },
  {
   "cell_type": "markdown",
   "id": "f9e53b38",
   "metadata": {},
   "source": [
    "4. Answer Input\n",
    "using System;\n",
    "public class ArrayExample\n",
    "{\n",
    "    public static void Main(string[] args)\n",
    "    {\n",
    "        int[] arr = new int[5];        \n",
    "        arr[0] = 25;\n",
    "        arr[1] = 47;\n",
    "        arr[2] = 42;\n",
    "        arr[3] = 56;\n",
    "        arr[4] = 32;\n",
    "        \n",
    "        int[] even = new int[5];\n",
    "        int[] odd = new int[5];\n",
    "        int i, j=0, k=0;\n",
    "        \n",
    "        for ( i = 0; i < arr.Length; i++)\n",
    "        {\n",
    "            if (arr[i]%2 ==0)\n",
    "            {\n",
    "            \teven[j] = arr[i];\n",
    "                j++;\n",
    "            }\n",
    "            else\n",
    "            {\n",
    "            \todd[k] = arr[i];\n",
    "                k++;\n",
    "            }\n",
    "        }\n",
    "        Console.WriteLine(\"The Even elements are:\");\n",
    "        for (i =0; i<j; i++)\n",
    "        {\n",
    "        \tConsole.WriteLine(even[i]);\n",
    "        }\n",
    "        Console.WriteLine(\"The Odd elements are:\");\n",
    "        for (i =0; i<k; i++)\n",
    "        {\n",
    "        \tConsole.WriteLine(odd[i]);\n",
    "        }\n",
    "    }\n",
    "}"
   ]
  },
  {
   "cell_type": "markdown",
   "id": "30a17f3c",
   "metadata": {},
   "source": [
    "4. Answer Output\n",
    "The Even elements are:\n",
    "42\n",
    "56\n",
    "32\n",
    "The Odd elements are:\n",
    "25\n",
    "47\n",
    "\n"
   ]
  },
  {
   "cell_type": "markdown",
   "id": "5e4be0de",
   "metadata": {},
   "source": [
    "5. a. Write a function inside(x,y,x1,y1,x2,y2) that returns True or False depending on whether the point (x,y) lies in the rectangle with lower left corner (x1,y1) and upper right corner (x2,y2). => x1<x<x2 and y1<y<y2\n",
    ">>> inside(1,1,0,0,2,3)\n",
    " True\n",
    ">>> inside(-1,-1,0,0,2,3)\n",
    " False\n",
    "    \n",
    "5. b. Use function inside() from part a. to write an expression that tests whether the point (1,1) lies in both of the following rectangles: one with lower left corner (0.3, 0.5) and upper right corner (1.1, 0.7) and the other with lower left corner (0.5, 0.2) and upper right corner (1.1, 2)."
   ]
  },
  {
   "cell_type": "markdown",
   "id": "94b221de",
   "metadata": {},
   "source": [
    "5. Answer Inputs\n",
    "5. a.\n",
    "using System;\n",
    "class insideRectangle\n",
    "{\n",
    "    static bool inside(double x, double y, double x1, double y1, double x2, double y2)\n",
    "    {\n",
    "        if (x > x1 && x < x2 && y > y1 && y < y2)\n",
    "        {\n",
    "            return true;\n",
    "        }\n",
    "        else\n",
    "        {\n",
    "            return false;\n",
    "        }\n",
    "    }\n",
    "    public static void Main()\n",
    "    {\n",
    "        double x = -1, y = -1;\n",
    "        double x1 = 0, y1 = 0, x2 = 2, y2 = 3;\n",
    "\n",
    "        if (inside(x, y, x1, y1, x2, y2))\n",
    "        {\n",
    "            Console.Write(\"True\");\n",
    "        }\n",
    "        else\n",
    "        {\n",
    "            Console.Write(\"False\");\n",
    "        }\n",
    "    }\n",
    "}\n",
    "\n",
    "5. b.\n",
    "\n",
    "// using System; \n",
    "class insideRectangle\n",
    "{\n",
    "    static bool inside(double x, double y, double x1, double y1, double x2, double y2)\n",
    "    {\n",
    "        if (x > x1 && x < x2 && y > y1 && y < y2)\n",
    "        {\n",
    "            return true;\n",
    "        }\n",
    "        else\n",
    "        {\n",
    "            return false;\n",
    "        }\n",
    "    }\n",
    "\n",
    "    public static void Main()\n",
    "    {\n",
    "        double x = 1, y = 1;\n",
    "        double x1 = 0.3, y1 = 0.5, x2 = 1.1, y2 = 0.7;\n",
    "        double x3 = 0.5, y3 = 0.2, x4 = 1.1, y4 = 2;\n",
    "\n",
    "        if (inside(x, y, x1, y1, x2, y2))\n",
    "        {\n",
    "            if (inside(x, y, x3, y3, x4, y4))\n",
    "            {\n",
    "                Console.Write(\"True\");\n",
    "            }\n",
    "            else\n",
    "            {\n",
    "                Console.Write(\"False\");\n",
    "            }\n",
    "        }\n",
    "        else\n",
    "        {\n",
    "            Console.Write(\"False\");\n",
    "        }\n",
    "\n",
    "    }\n",
    "}"
   ]
  },
  {
   "cell_type": "markdown",
   "id": "09f7c50b",
   "metadata": {},
   "source": [
    "5. Answer Outputs\n",
    "5. a.\n",
    "False\n",
    "\n",
    "\n",
    "5. b.\n",
    "False\n",
    "\n"
   ]
  },
  {
   "cell_type": "markdown",
   "id": "0915af8c",
   "metadata": {},
   "source": [
    "6. \n",
    "\n",
    "16. You can turn a word into pig-Latin using the following two rules (simplified):\n",
    "• If the word starts with a consonant, move that letter to the end and append 'ay'. For example, 'happy' becomes 'appyhay' and 'pencil' becomes 'encilpay'.\n",
    "• If the word starts with a vowel, simply append 'way' to the end of the word. For example, 'enter' becomes 'enterway' and 'other' becomes 'otherway' . For our purposes, there are 5 vowels: a, e, i, o, u (so we count y as a consonant).\n",
    "\n",
    "Write a function pig() that takes a word (i.e., a string) as input and returns its pig-Latin form. Your function should still work if the input word contains upper case characters. Your output should always be lower case however.\n",
    ">>> pig('happy')\n",
    "'appyhay'\n",
    ">>> pig('Enter')\n",
    "'enterway'"
   ]
  },
  {
   "cell_type": "code",
   "execution_count": 196,
   "id": "a84d1074",
   "metadata": {},
   "outputs": [
    {
     "name": "stdout",
     "output_type": "stream",
     "text": [
      "appyhay\n",
      "enterway\n"
     ]
    }
   ],
   "source": [
    "## 6. Answer\n",
    "def pig(str):\n",
    "    if str[0] in ['a','e','i','o','u','A','E','I','O','U']:\n",
    "        print(str[0:].lower() + 'way')\n",
    "    else:\n",
    "        print(str[1:].lower() + str[0].lower() + 'ay')\n",
    "pig(\"happy\")\n",
    "pig(\"Enter\")"
   ]
  },
  {
   "cell_type": "markdown",
   "id": "d29d26ec",
   "metadata": {},
   "source": [
    "7. \n",
    "\n",
    "File bloodtype1.txt records blood-types of patients (A, B, AB, O or OO) at a clinic. Write a function bldcount() that reads the file with name name and reports (i.e., prints) how many patients there are in each bloodtype.\n",
    ">>> bldcount('bloodtype.txt')\n",
    "There are 10 patients of blood type A.\n",
    "There is one patient of blood type B.\n",
    "There are 10 patients of blood type AB.\n",
    "There are 12 patients of blood type O.\n",
    "There are no patients of blood type OO."
   ]
  },
  {
   "cell_type": "code",
   "execution_count": 197,
   "id": "1263a396",
   "metadata": {},
   "outputs": [
    {
     "name": "stdout",
     "output_type": "stream",
     "text": [
      "There are 28 patients of blood type A\n",
      "There are 14 patients of blood type B\n",
      "There are 13 patients of blood type AB\n",
      "There are 15 patients of blood type O\n",
      "There are no patients of blood type OO\n"
     ]
    }
   ],
   "source": [
    "## 7. Answer\n",
    "def bldCount(infile):\n",
    "    infile = open(\"bloodtype1.txt\",\"r\")\n",
    "    bldCount = infile.read()\n",
    "    countA = bldCount.count(\"A\")\n",
    "    if countA > 1:\n",
    "        print('There are', countA, 'patients of blood type A')\n",
    "    elif countA == 1:\n",
    "        print('There is 1 patient of blood type A')\n",
    "    else:\n",
    "        print('There are no patients of blood type A')\n",
    "    countB = bldCount.count(\"B\")\n",
    "    if countB > 1:\n",
    "        print('There are', countB, 'patients of blood type B')\n",
    "    elif countB == 1:\n",
    "        print('There is 1 patient of blood type B')\n",
    "    else:\n",
    "        print('There are no patients of blood type B')\n",
    "    countAB = bldCount.count(\"AB\")   \n",
    "    if countAB > 1:\n",
    "        print('There are', countAB, 'patients of blood type AB')\n",
    "    elif countAB == 1:\n",
    "        print('There is 1 patient of blood type AB')\n",
    "    else:\n",
    "        print('There are no patients of blood type AB')\n",
    "    countO = bldCount.count(\"O\")\n",
    "    if countO > 1:\n",
    "        print('There are', countO, 'patients of blood type O')\n",
    "    elif countO == 1:\n",
    "        print('There is 1 patient of blood type O')\n",
    "    else:\n",
    "        print('There are no patients of blood type O')\n",
    "    countOO = bldCount.count(\"OO\")\n",
    "    if countOO > 1:\n",
    "        print('There are', countOO, 'patients of blood type OO')\n",
    "    elif countOO == 1:\n",
    "        print('There is 1 patient of blood type OO')\n",
    "    else:\n",
    "        print('There are no patients of blood type OO')\n",
    "    infile.close()\n",
    "bldCount(\"bloodtype.txt\")\n",
    "        "
   ]
  },
  {
   "cell_type": "markdown",
   "id": "232d9401",
   "metadata": {},
   "source": [
    "8. \n",
    "\n",
    "Write a function curconv() that takes as input:\n",
    "1. a currency represented using a string (e.g., 'JPY' for the Japanese Yen or 'EUR' for the Euro)\n",
    "2. an amount\n",
    "and then converts and returns the amount in US dollars.\n",
    ">>> curconv('EUR', 100)\n",
    "122.96544\n",
    ">>> curconv('JPY', 100)\n",
    "1.241401\n",
    "The currency rates you will need are stored in file currencies.txt:\n",
    "AUD 1.0345157 Australian Dollar\n",
    "CHF 1.0237414 Swiss Franc\n",
    "CNY 0.1550176 Chinese Yuan\n",
    "DKK 0.1651442 Danish Krone\n",
    "EUR 1.2296544 Euro\n",
    "GBP 1.5550989 British Pound\n",
    "HKD 0.1270207 Hong Kong Dollar\n",
    "INR 0.0177643 Indian Rupee\n",
    "JPY 0.01241401 Japanese Yen\n",
    "MXN 0.0751848 Mexican Peso\n",
    "MYR 0.3145411 Malaysian Ringgit\n",
    "NOK 0.1677063 Norwegian Krone\n",
    "NZD 0.8003591 New Zealand Dollar\n",
    "PHP 0.0233234 Philippine Peso\n",
    "SEK 0.148269 Swedish Krona\n",
    "SGD 0.788871 Singapore Dollar\n",
    "THB 0.0313789 Thai Baht"
   ]
  },
  {
   "cell_type": "code",
   "execution_count": 199,
   "id": "ef90332a",
   "metadata": {},
   "outputs": [
    {
     "data": {
      "text/plain": [
       "1.241401"
      ]
     },
     "execution_count": 199,
     "metadata": {},
     "output_type": "execute_result"
    }
   ],
   "source": [
    "## 8. Answer\n",
    "curDict = {'AUD':1.0345157,'CHF':1.0237414,'CNY':0.1550176,'DKK':0.1651442,'EUR':1.2296544,'GBP':1.5550989,'HKD':0.1270207,'INR':0.0177643,'JPY':0.01241401,'MXN':0.0751848,'MYR':0.3145411,'NOK':0.1677063,'NZD':0.8003591,'PHP':0.0233234,'SEK':0.148269,'SGD':0.788871,'THB':0.0313789}\n",
    "\n",
    "def curConv(x,y):\n",
    "    return(curDict[x]*y)\n",
    "\n",
    "curConv('JPY',100)"
   ]
  },
  {
   "cell_type": "markdown",
   "id": "2b15460c",
   "metadata": {},
   "source": [
    "9. Answer \n",
    "\n",
    "Each of the following will cause an exception (an error). Identify what type of exception each will cause.\n",
    "\n",
    "1)Trying to add incompatible variables, as in adding 6 + ‘a’ \n",
    "1. This will cause TypeError, because wrong type of object is used.\n",
    "2)Referring to the 12th item of a list that has only 10 items \n",
    "2. This will give IndexError, because the referred item is out of the range and does not exist.\n",
    "3)Using a value that is out of range for a function’s input, such as calling math.sqrt(-1.0)\n",
    "3. Because square root function is opnly applicable for positive numbers in Python, this will give ValueError. \n",
    "4)Using an undeclared variable, such as p rint(x) when x has not been defined\n",
    "4. This will give NameError, because x is not defined.\n",
    "5)Trying to open a file that does not exist, such as mistyping the file name or looking in the wrong directory.\n",
    "5. This will give ValueError and FileNotFoundError."
   ]
  },
  {
   "cell_type": "markdown",
   "id": "3e02e67e",
   "metadata": {},
   "source": [
    "10. \n",
    "Encryption is the process of hiding the meaning of a text by substituting letters in the message with other letters, according to some system. If the process is successful, no one but the intended recipient can understand the encrypted message. \n",
    "Cryptanalysis refers to attempts to undo the encryption, even if some details of the encryption are unknown (for example, if an encrypted message has been intercepted). \n",
    "The first step of cryptanalysis is often to build up a table of letter frequencies in the encrypted text. \n",
    "Assume that the string letters is already defined as 'abcdefghijklmnopqrstuvwxyz'. Write a function called frequencies() that takes a string as its only parameter, and returns a list of integers, showing the number of times each character appears in the text. Your function may ignore any characters that are not in letters.\n",
    "\n",
    ">>> frequencies('The quick red fox got bored and went home.')\n",
    "[1, 1, 1, 3, 5, 1, 1, 2, 1, 0, 1, 0, 1, 2, 4, 0, 1, 2, 0, 2, 1, 0, 1, 1, 0, 0]\n",
    ">>> frequencies('apple')"
   ]
  },
  {
   "cell_type": "code",
   "execution_count": 200,
   "id": "2282b52d",
   "metadata": {},
   "outputs": [
    {
     "data": {
      "text/plain": [
       "{'T': 1,\n",
       " 'h': 2,\n",
       " 'e': 5,\n",
       " ' ': 8,\n",
       " 'q': 1,\n",
       " 'u': 1,\n",
       " 'i': 1,\n",
       " 'c': 1,\n",
       " 'k': 1,\n",
       " 'r': 2,\n",
       " 'd': 3,\n",
       " 'f': 1,\n",
       " 'o': 4,\n",
       " 'x': 1,\n",
       " 'g': 1,\n",
       " 't': 2,\n",
       " 'b': 1,\n",
       " 'a': 1,\n",
       " 'n': 2,\n",
       " 'w': 1,\n",
       " 'm': 1,\n",
       " '.': 1}"
      ]
     },
     "execution_count": 200,
     "metadata": {},
     "output_type": "execute_result"
    }
   ],
   "source": [
    "## 10. Answer\n",
    "def frequencies(str):\n",
    "    strLetters = {}\n",
    "    for i in str:\n",
    "        if i in strLetters:\n",
    "            strLetters[i] +=1\n",
    "        else:\n",
    "            strLetters[i] =1\n",
    "    return strLetters\n",
    "frequencies('The quick red fox got bored and went home.')"
   ]
  },
  {
   "cell_type": "code",
   "execution_count": null,
   "id": "82b6da16",
   "metadata": {},
   "outputs": [],
   "source": []
  }
 ],
 "metadata": {
  "kernelspec": {
   "display_name": "Python 3 (ipykernel)",
   "language": "python",
   "name": "python3"
  },
  "language_info": {
   "codemirror_mode": {
    "name": "ipython",
    "version": 3
   },
   "file_extension": ".py",
   "mimetype": "text/x-python",
   "name": "python",
   "nbconvert_exporter": "python",
   "pygments_lexer": "ipython3",
   "version": "3.10.9"
  }
 },
 "nbformat": 4,
 "nbformat_minor": 5
}
